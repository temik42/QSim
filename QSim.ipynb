{
 "cells": [
  {
   "cell_type": "code",
   "execution_count": 1,
   "metadata": {
    "collapsed": false
   },
   "outputs": [],
   "source": [
    "%matplotlib inline\n",
    "\n",
    "import matplotlib.pyplot as plt\n",
    "import numpy as np\n",
    "import sys\n",
    "sys.path.append('Q:\\\\python\\\\lib')\n",
    "import Sun\n",
    "import AIA\n",
    "from hydro import *\n",
    "from pyfield import *"
   ]
  },
  {
   "cell_type": "code",
   "execution_count": 14,
   "metadata": {
    "collapsed": false
   },
   "outputs": [],
   "source": [
    "nx = 100\n",
    "nt = int(1e5)\n",
    "L = 1e8\n",
    "\n",
    "idx = np.arange(0,nx).astype(np.double)/(nx-1.)\n",
    "X = np.zeros((nx,2), dtype = np.double)\n",
    "Xi = np.zeros((nx,2), dtype = np.double)\n",
    "\n",
    "X[:,0] = np.cos(idx*np.pi, dtype = np.double)*L\n",
    "X[:,1] = np.sin(idx*np.pi, dtype = np.double)*L\n",
    "\n",
    "\n",
    "\n",
    "for i in range(0,2):\n",
    "    Xi[:,i] = 0.5*(X[:,i] + np.roll(X[:,i],1))\n",
    "         \n",
    "\n",
    "ds = np.sqrt(np.sum([d(X[:,i])**2 for i in range(0,2)],0))\n",
    "dsi = np.sqrt(np.sum([(np.roll(Xi[:,i],-1)-Xi[:,i])**2 for i in range(0,2)],0))           \n",
    "d2s = np.sum([d(X[:,i])*d(X[:,i],2) for i in range(0,2)],0)/ds\n",
    "\n",
    "\n",
    "cfl = 0.1\n",
    "gamma = 5./3\n",
    "m = Sun.mu_c*Sun.m_p\n",
    "k_b = Sun.k_b\n",
    "\n",
    "rho = np.zeros((nx,nt+1), dtype = np.double)\n",
    "rhou = np.zeros((nx,nt+1), dtype = np.double)\n",
    "rhoe = np.zeros((nx,nt+1), dtype = np.double)\n",
    "\n",
    "time = np.zeros(nt+1, dtype = np.double)\n",
    "dg = 0.3\n",
    "\n",
    "rho[:,0] = np.ones(nx, dtype = np.double)*1e9*m\n",
    "#rho[:,0] = (1. - 0.99*np.sin(idx*np.pi))*5e11*m\n",
    "#rho[:,0] = (1. - 0.9*np.exp(-(idx-0.5)**2/dg**2))*1e10*m\n",
    "#T = 1e4 + 1e4*np.sin(idx*np.pi)\n",
    "#T = np.ones(nx)*1e4\n",
    "#T[nx/2] = 1e5\n",
    "T = 1e4 + 5e4*np.exp(-(idx-0.5)**2/0.15**2)\n",
    "\n",
    "rhoe[:,0] = 3*rho[:,0]/m*k_b*T\n",
    "\n",
    "rho0 = np.array(rho[:,0])\n",
    "rhou0 = np.array(rhou[:,0])\n",
    "rhoe0 = np.array(rhoe[:,0])\n",
    "\n",
    "qrho = np.array(rho[:,0])\n",
    "qrhou = np.array(rhou[:,0])\n",
    "qrhoe = np.array(rhoe[:,0])\n",
    "\n",
    "for it in range(1,nt+1):    \n",
    "    u = qrhou/qrho\n",
    "    etot = qrhoe/qrho\n",
    "    ekin = u**2/2\n",
    "    eth = etot-ekin\n",
    "    T = (eth*m/(3*Sun.k_b)).clip(min=1e3)\n",
    "    \n",
    "    cs = np.sqrt(gamma*(gamma-1)*eth.clip(min=0))\n",
    "    dum = np.min((ds/(cs+np.abs(u)+1))[1:nx-1])\n",
    "    trad = np.min((1./((qrho/m)**2*1.9e-22))[1:nx-1])\n",
    "    tcon = np.min(np.abs(ds**2/(2*Sun.kappa*T**2.5*m/(3*Sun.k_b)/qrho))[1:nx-1])\n",
    "    \n",
    "    #dt = cfl*np.min([dum,tcon,trad])\n",
    "    dt = 1e-6\n",
    "    time[it] = time[it-1]+dt\n",
    "    hydrostep(ds,dsi,d2s,qrho,qrhou,qrhoe,gamma,dt, 'mirror')\n",
    "    \n",
    "    rho[:,it] = qrho\n",
    "    rhou[:,it] = qrhou\n",
    "    rhoe[:,it] = qrhoe"
   ]
  },
  {
   "cell_type": "code",
   "execution_count": 13,
   "metadata": {
    "collapsed": false
   },
   "outputs": [
    {
     "name": "stdout",
     "output_type": "stream",
     "text": [
      "1.24188274 14.3860915485 5263.15733631 30125.7174436\n"
     ]
    },
    {
     "data": {
      "text/plain": [
       "[<matplotlib.lines.Line2D at 0x95473d0>]"
      ]
     },
     "execution_count": 13,
     "metadata": {},
     "output_type": "execute_result"
    },
    {
     "data": {
      "image/png": "[encoded data removed]",
      "text/plain": [
       "<matplotlib.figure.Figure at 0x9466410>"
      ]
     },
     "metadata": {},
     "output_type": "display_data"
    }
   ],
   "source": [
    "T = eth*m/(3*Sun.k_b)\n",
    "print dum, tcon, trad, np.max(T)\n",
    "n = qrho/m\n",
    "plt.figure(figsize=(16,5))\n",
    "plt.subplot(121)\n",
    "plt.title('Temperature', size = 18)\n",
    "plt.plot(T)\n",
    "plt.subplot(122)\n",
    "plt.title('Density', size = 18)\n",
    "plt.plot(n)"
   ]
  },
  {
   "cell_type": "code",
   "execution_count": 14,
   "metadata": {
    "collapsed": false
   },
   "outputs": [],
   "source": [
    "def f(x):\n",
    "    out = np.array([0.1*x[0]-x[1],0.1*x[1]+x[0]]).T\n",
    "    #out /= np.sqrt(out[0]**2+out[1]**2)\n",
    "    return out\n",
    "\n",
    "x0 = np.array([1.,1.]).T\n",
    "\n",
    "x = x0\n",
    "step = 0.1\n",
    "\n",
    "for i in range(0,100):\n",
    "    f1 = f(x0)\n",
    "    x1 = x0 + step*f1\n",
    "    f2 = f(x1)\n",
    "    x0 += 0.5*step*(f1+f2)\n",
    "    x = np.column_stack((x,x0))\n"
   ]
  },
  {
   "cell_type": "code",
   "execution_count": 3,
   "metadata": {
    "collapsed": false
   },
   "outputs": [],
   "source": [
    "alpha = 4./11\n",
    "p = 2*1e9*Sun.k_b*1e6\n",
    "lam = 2e-22\n",
    "\n",
    "A = ((p/(2*Sun.k_b))**2*lam/Sun.kappa/(3.5*alpha**2-alpha))**(2./11)"
   ]
  },
  {
   "cell_type": "code",
   "execution_count": 12,
   "metadata": {
    "collapsed": false
   },
   "outputs": [
    {
     "data": {
      "text/plain": [
       "[<matplotlib.lines.Line2D at 0xe0d46f0>]"
      ]
     },
     "execution_count": 12,
     "metadata": {},
     "output_type": "execute_result"
    },
    {
     "data": {
      "image/png": "[encoded data removed]",
      "text/plain": [
       "<matplotlib.figure.Figure at 0xdf31f30>"
      ]
     },
     "metadata": {},
     "output_type": "display_data"
    }
   ],
   "source": [
    "N = 100\n",
    "L = 1e9\n",
    "s = (np.arange(0,N).astype(np.float32)+0.5)/(N-1)*L\n",
    "\n",
    "T = A*s**alpha\n",
    "n = p/(2*Sun.k_b*T)\n",
    "\n",
    "plt.plot(s, n**2*AIA.t171(T)*1e7)"
   ]
  },
  {
   "cell_type": "code",
   "execution_count": 7,
   "metadata": {
    "collapsed": false
   },
   "outputs": [
    {
     "data": {
      "text/plain": [
       "0.0041421000000000001"
      ]
     },
     "execution_count": 7,
     "metadata": {},
     "output_type": "execute_result"
    }
   ],
   "source": [
    "np.max(rhoe0)"
   ]
  },
  {
   "cell_type": "code",
   "execution_count": null,
   "metadata": {
    "collapsed": true
   },
   "outputs": [],
   "source": []
  }
 ],
 "metadata": {
  "kernelspec": {
   "display_name": "Python 2",
   "language": "python",
   "name": "python2"
  },
  "language_info": {
   "codemirror_mode": {
    "name": "ipython",
    "version": 2
   },
   "file_extension": ".py",
   "mimetype": "text/x-python",
   "name": "python",
   "nbconvert_exporter": "python",
   "pygments_lexer": "ipython2",
   "version": "2.7.10"
  }
 },
 "nbformat": 4,
 "nbformat_minor": 0
}
