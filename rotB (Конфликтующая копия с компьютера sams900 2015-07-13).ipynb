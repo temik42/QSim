{
 "cells": [
  {
   "cell_type": "code",
   "execution_count": 1,
   "metadata": {
    "collapsed": false
   },
   "outputs": [
    {
     "name": "stdout",
     "output_type": "stream",
     "text": [
      "Q:\\Dropbox\\python\\QSim\n"
     ]
    }
   ],
   "source": [
    "%cd 'Q:\\Dropbox\\python\\QSim\\'"
   ]
  },
  {
   "cell_type": "code",
   "execution_count": 4,
   "metadata": {
    "collapsed": false
   },
   "outputs": [],
   "source": [
    "%matplotlib inline\n",
    "from scipy.io import *\n",
    "import matplotlib.pyplot as plt\n",
    "from mpl_toolkits.mplot3d import Axes3D\n",
    "import numpy as np\n",
    "from scipy.integrate import ode"
   ]
  },
  {
   "cell_type": "code",
   "execution_count": 5,
   "metadata": {
    "collapsed": false
   },
   "outputs": [],
   "source": [
    "def cross(a, b):\n",
    "    return [a[i]*b[i+1]-a[i+1]*b[i] for i in [1,-1,0]]\n",
    "\n",
    "def jacobian(X):\n",
    "    J = [[(np.roll(X[i],-1,j)-np.roll(X[i],1,j))*0.5 for j in range(0,3)] for i in range(0,3)]\n",
    "    for i in range(0,3):\n",
    "        J[i][0][0,:,:] = -1.5*X[i][0,:,:]+2*X[i][1,:,:]-0.5*X[i][2,:,:]\n",
    "        J[i][0][-1,:,:] = 1.5*X[i][-1,:,:]-2*X[i][-2,:,:]+0.5*X[i][-3,:,:]\n",
    "        J[i][1][:,0,:] = -1.5*X[i][:,0,:]+2*X[i][:,1,:]-0.5*X[i][:,2,:]\n",
    "        J[i][1][:,-1,:] = 1.5*X[i][:,-1,:]-2*X[i][:,-2,:]+0.5*X[i][:,-3,:]\n",
    "        J[i][2][:,:,0] = -1.5*X[i][:,:,0]+2*X[i][:,:,1]-0.5*X[i][:,:,2]\n",
    "        J[i][2][:,:,-1] = 1.5*X[i][:,:,-1]-2*X[i][:,:,-2]+0.5*X[i][:,:,-3]\n",
    "    return J\n",
    "\n",
    "def hessian(X):\n",
    "    J = jacobian(X)   \n",
    "    H = [[[(-2*X[i] + np.roll(X[i],-1,k)+np.roll(X[i],1,k)) if k == j else \n",
    "           (np.roll(J[i][j],-1,k)-np.roll(J[i][j],1,k))*0.5 for k in range(0,j+1)] for j in range(0,3)] for i in range(0,3)]\n",
    "    \n",
    "    for i in range(0,3):\n",
    "        H[i][0][0][0,:,:] = 2*X[i][0,:,:]-5*X[i][1,:,:]+4*X[i][2,:,:]-X[i][3,:,:]\n",
    "        H[i][0][0][-1,:,:] = 2*X[i][-1,:,:]-5*X[i][-2,:,:]+4*X[i][-3,:,:]-X[i][-4,:,:]\n",
    "        H[i][1][1][:,0,:] = 2*X[i][:,0,:]-5*X[i][:,1,:]+4*X[i][:,2,:]-X[i][:,3,:]\n",
    "        H[i][1][1][:,-1,:] = 2*X[i][:,-1,:]-5*X[i][:,-2,:]+4*X[i][:,-3,:]-X[i][:,-4,:]\n",
    "        H[i][2][2][:,:,0] = 2*X[i][:,:,0]-5*X[i][:,:,1]+4*X[i][:,:,2]-X[i][:,:,3]\n",
    "        H[i][2][2][:,:,-1] = 2*X[i][:,:,-1]-5*X[i][:,:,-2]+4*X[i][:,:,-3]-X[i][:,:,-4]\n",
    "        \n",
    "        for j in (1,2):\n",
    "            H[i][j][0][0,:,:] = -1.5*J[i][j][0,:,:]+2*J[i][j][1,:,:]-0.5*J[i][j][2,:,:]\n",
    "            H[i][j][0][-1,:,:] = 1.5*J[i][j][-1,:,:]-2*J[i][j][-2,:,:]+0.5*J[i][j][-3,:,:]\n",
    "        \n",
    "        H[i][2][1][:,0,:] = -1.5*J[i][2][:,0,:]+2*J[i][2][:,1,:]-0.5*J[i][2][:,2,:]\n",
    "        H[i][2][1][:,-1,:] = 1.5*J[i][2][:,-1,:]-2*J[i][2][:,-2,:]+0.5*J[i][2][:,-3,:]        \n",
    "    \n",
    "    return (H, J)       \n",
    "\n",
    "def det(a):\n",
    "    return np.sum([a[0][i-1]*(a[1][i]*a[2][i+1]-a[1][i+1]*a[2][i]) for i in [1,-1,0]],0)\n",
    "\n",
    "def rot(B, X):\n",
    "    hes = hessian(X)\n",
    "    J = hes[1]\n",
    "    H = hes[0]\n",
    "    detJ = det(J)\n",
    "    Jb = [[(J[i][j]*J[i+1][j+1] - J[i+1][j]*J[i][j+1])/detJ for j in [-2,-1,0]] for i in [1,-1,0]]\n",
    "    dB = [np.gradient(B[i]) for i in range(0,3)]\n",
    "    Bx = [np.sum([J[i][j]*B[j] for j in range(0,3)]/detJ,0) for i in range(0,3)]\n",
    "    \n",
    "    #B2 = np.sum(np.power(B,2),0)\n",
    "    #Bx2 = np.sum(np.power(Bx,2),0)\n",
    "  \n",
    "    DdetJ = [det([[H[i][j][0],J[i][1],J[i][2]] for i in range(0,3)])+\n",
    "            det([[J[i][0],H[i][max(j,1)][min(j,1)],J[i][2]] for i in range(0,3)])+\n",
    "            det([[J[i][0],J[i][1],H[i][max(j,2)][min(j,2)]] for i in range(0,3)]) for j in range(0,3)]\n",
    "\n",
    "    dBx = [[(np.sum([J[i][k]*dB[k][j] + H[i][max(k,j)][min(k,j)]*B[k] for k in range(0,3)],0) -\n",
    "                DdetJ[j]*Bx[i])/detJ for j in range(0,3)] for i in range(0,3)]\n",
    "    \n",
    "    rotB = [np.sum([Jb[i][j]*dBx[i+1][j]-Jb[i+1][j]*dBx[i][j] for j in range(0,3)],0) for i in [1,-1,0]]\n",
    "    \n",
    "    force = [np.sum([B[j]*dBx[i][j]/detJ - np.sum([Bx[k]*dBx[k][j] for k in range(0,3)],0)*Jb[i][j]\n",
    "                     for j in range(0,3)],0) for i in range(0,3)]\n",
    "    \n",
    "    #b = [np.sum([B[j]*dBx[i][j]/detJ for j in range(0,3)],0) for i in range(0,3)]\n",
    "    #c = [np.sum([Bx[j]*dBx[j][i] for j in range(0,3)],0)  for i in range(0,3)]\n",
    "    \n",
    "    \n",
    "    #q = [np.sum([(B2/detJ**2*(i == j) - Bx[i]*np.sum([Jb[k][j]*B[k] for k in range(0,3)],0)/detJ - \n",
    "    #      Bx[j]*np.sum([Jb[k][i]*B[k] for k in range(0,3)],0)/detJ + \n",
    "    #      Bx2*np.sum([Jb[k][i]*Jb[k][j] for k in range(0,3)],0))*X[j]\n",
    "    #      for j in range(0,3)],0) for i in range(0,3)]\n",
    "    \n",
    "    return force\n",
    "\n",
    "def force(B, X):\n",
    "    ## from Craig & Sneyd (1986)\n",
    "    dB = [np.gradient(B[i]) for i in range(0,3)]\n",
    "    hes = hessian(X)\n",
    "    J = hes[1]\n",
    "    H = hes[0]\n",
    "    detJ = det(J)\n",
    "    detJ2 = detJ**2\n",
    "    Jb = [[(J[i][j]*J[i+1][j+1] - J[i+1][j]*J[i][j+1])/detJ for j in [-2,-1,0]] for i in [1,-1,0]]\n",
    "    b = [np.sum([J[i][j]*B[j] for j in range(0,3)],0) for i in range(0,3)]\n",
    "    b2 = np.sum(np.power(b,2),0)\n",
    "    g = [[1 if i==j else 0 for j in range(0,3)] for i in range(0,3)]\n",
    "    \n",
    "    A = [[[[(g[i][j]*B[k]*B[l] - (b[i]*Jb[j][k]+b[j]*Jb[i][k])*B[l] + b2*Jb[l][i]*Jb[j][k])/detJ2\n",
    "            for l in range(0,3)] for k in range(0,3)] for j in range(0,3)] for i in range(0,3)]\n",
    "    \n",
    "    C = [(np.sum([np.sum([B[k]*dB[j][k] for k in range(0,3)],0)*J[i][j] for j in range(0,3)],0) -\n",
    "         np.sum([np.sum([np.sum([J[k][l]*dB[l][j] for l in range(0,3)],0)*b[k] for k in range(0,3)],0)*Jb[i][j]\n",
    "                 for j in range(0,3)],0))/detJ2\n",
    "         for i in range(0,3)]\n",
    "    \n",
    "    \n",
    "    return [np.sum([np.sum([np.sum([A[i][j][k][l]*H[j][max(k,l)][min(k,l)] for l in range(0,3)],0)\n",
    "                            for k in range(0,3)],0) for j in range(0,3)],0) + C[i] for i in range(0,3)]\n"
   ]
  },
  {
   "cell_type": "code",
   "execution_count": 10,
   "metadata": {
    "collapsed": false
   },
   "outputs": [],
   "source": [
    "dim = [64,64,64]\n",
    "X = np.mgrid[0:dim[0], 0:dim[1], 0:dim[2]].astype(np.float64)\n",
    "xsh = X.shape\n",
    "B = [np.zeros(dim) for i in range(0,3)]\n",
    "B[2] = np.ones(dim)\n",
    "X1 = np.array(X)\n",
    "ar = 8**2\n",
    "az = 8**2\n",
    "h = np.exp(-((X[0]-dim[0]/2)**2 + (X[1]-dim[1]/2)**2)/ar - (X[2])**2/az)*np.pi/2\n",
    "\n",
    "#h = np.exp(-((X[0]-dim[0]/2)**2 + (X[1]-dim[1]/2)**2)/ar)*X[2]/dim[2]*np.pi/4\n",
    "\n",
    "X[0] = (X1[0]-dim[0]/2)*np.cos(h) - (X1[1]-dim[1]/2)*np.sin(h) + dim[0]/2\n",
    "X[1] = (X1[0]-dim[0]/2)*np.sin(h) + (X1[1]-dim[1]/2)*np.cos(h) + dim[1]/2\n",
    "\n",
    "#X[1] = X[1] + (X[0]-dim[0]/2)*np.exp(-np.abs(X[0]-dim[0]/2)/2)*np.cos(np.pi*X[2]/dim[2])\n",
    "\n",
    "X1 = np.array(X)\n",
    "\n",
    "\n"
   ]
  },
  {
   "cell_type": "code",
   "execution_count": 12,
   "metadata": {
    "collapsed": false
   },
   "outputs": [
    {
     "name": "stderr",
     "output_type": "stream",
     "text": [
      "C:\\Anaconda\\lib\\site-packages\\scipy\\integrate\\_ode.py:949: UserWarning: dop853: step size becomes too small\n",
      "  self.messages.get(idid, 'Unexpected idid=%s' % idid))\n"
     ]
    },
    {
     "data": {
      "text/plain": [
       "False"
      ]
     },
     "execution_count": 12,
     "metadata": {},
     "output_type": "execute_result"
    }
   ],
   "source": [
    "def f(t,y):\n",
    "    y.shape = xsh\n",
    "    return np.array(rot(B,y)).flatten()\n",
    "\n",
    "r = ode(f).set_integrator('dop853', verbosity = 1).set_initial_value(X.flatten(),0)\n",
    "Y = r.integrate(500)\n",
    "Y.shape = xsh\n",
    "\n",
    "r.successful()"
   ]
  },
  {
   "cell_type": "code",
   "execution_count": null,
   "metadata": {
    "collapsed": true
   },
   "outputs": [],
   "source": [
    "for i in range(0,0):\n",
    "    F1 = np.array(rot(B,X))\n",
    "    F2 = np.array(rot(B,X+F1*step*0.5))\n",
    "    F3 = np.array(rot(B,X+F2*step*0.5))\n",
    "    F4 = np.array(rot(B,X+F3*step))\n",
    "    \n",
    "    F = (F1+2*F2+2*F3+F4)/6\n",
    "    F[:,:,:,0] = 0\n",
    "    F[:,:,:,dim[2]-1] = 0\n",
    "    X += F*step\n",
    "    print np.max(np.abs(F))"
   ]
  },
  {
   "cell_type": "code",
   "execution_count": 17,
   "metadata": {
    "collapsed": false
   },
   "outputs": [],
   "source": [
    "%matplotlib qt\n",
    "\n",
    "\n",
    "fig = plt.figure(1,[8,8])\n",
    "ax = fig.add_subplot(111, projection='3d')\n",
    "for i in range(24,40,2):\n",
    "    for j in range(24,40,2):\n",
    "        ax.plot(Y[0][i,j,:],Y[1][i,j,:],Y[2][i,j,:], color = 'green')\n",
    "plt.show()"
   ]
  },
  {
   "cell_type": "code",
   "execution_count": null,
   "metadata": {
    "collapsed": true
   },
   "outputs": [],
   "source": []
  }
 ],
 "metadata": {
  "kernelspec": {
   "display_name": "Python 2",
   "language": "python",
   "name": "python2"
  },
  "language_info": {
   "codemirror_mode": {
    "name": "ipython",
    "version": 2
   },
   "file_extension": ".py",
   "mimetype": "text/x-python",
   "name": "python",
   "nbconvert_exporter": "python",
   "pygments_lexer": "ipython2",
   "version": "2.7.8"
  }
 },
 "nbformat": 4,
 "nbformat_minor": 0
}
