{
 "metadata": {
  "name": "",
  "signature": "sha256:eb409d9081d589aed97546ac433bdd170ed1a60eab534a647f2aed548c700d22"
 },
 "nbformat": 3,
 "nbformat_minor": 0,
 "worksheets": [
  {
   "cells": [
    {
     "cell_type": "code",
     "collapsed": false,
     "input": [
      "%cd 'Q:\\Dropbox\\python\\QSim\\'"
     ],
     "language": "python",
     "metadata": {},
     "outputs": [
      {
       "output_type": "stream",
       "stream": "stdout",
       "text": [
        "Q:\\Dropbox\\python\\QSim\n"
       ]
      }
     ],
     "prompt_number": 2
    },
    {
     "cell_type": "code",
     "collapsed": false,
     "input": [
      "%matplotlib inline\n",
      "from scipy.io import *\n",
      "import matplotlib.pyplot as plt\n",
      "from scipy.integrate import simps\n",
      "from scipy.integrate import cumtrapz\n",
      "import numpy as np\n",
      "import AIA\n"
     ],
     "language": "python",
     "metadata": {},
     "outputs": [],
     "prompt_number": 3
    },
    {
     "cell_type": "code",
     "collapsed": false,
     "input": [
      "aia_tresp=readsav('Q:/Dropbox/data/tresp/aia_tresp.sav')"
     ],
     "language": "python",
     "metadata": {},
     "outputs": [
      {
       "output_type": "stream",
       "stream": "stderr",
       "text": [
        "C:\\Anaconda\\lib\\site-packages\\scipy\\io\\idl.py:167: UserWarning: warning: empty strings are now set to '' instead of None\n",
        "  warnings.warn(\"warning: empty strings are now set to '' instead of None\")\n"
       ]
      }
     ],
     "prompt_number": 4
    },
    {
     "cell_type": "code",
     "collapsed": false,
     "input": [
      "resp = aia_tresp['tresp']['all'][0][3,:][20:55]\n",
      "t = aia_tresp['tresp']['logte'][0][20:55]\n",
      "\n",
      "\n",
      "ctresp = cumtrapz(resp, 10**t, initial=0)\n",
      "\n",
      "print np.round(ctresp*1e23).astype(np.int)\n",
      "print np.round(resp*1e28).astype(np.int), np.round(t*100).astype(np.int)\n",
      "\n",
      "plt.plot(t, ctresp)"
     ],
     "language": "python",
     "metadata": {},
     "outputs": [
      {
       "output_type": "stream",
       "stream": "stdout",
       "text": [
        "[    0     3     6    10    17    35    77   163   313   524   770  1035\n",
        "  1340  1717  2183  2752  3438  4260  5257  6518  8273 11023 15559 22510\n",
        " 31365 40032 46199 49330 50565 51069 51364 51613 51864 52139 52465]\n",
        "[  23   22   23   30   57  126  258  449  646  735  695  678  733  816  895\n",
        "  966 1033 1104 1204 1398 1829 2678 3948 5102 5173 3790 1894  677  227  102\n",
        "   69   60   56   57   62] [500 505 510 515 520 525 530 535 540 545 550 555 560 565 570 575 580 585\n",
        " 590 595 600 605 610 615 620 625 630 635 640 645 650 655 660 665 670]\n"
       ]
      },
      {
       "metadata": {},
       "output_type": "pyout",
       "prompt_number": 6,
       "text": [
        "[<matplotlib.lines.Line2D at 0x5a1ec50>]"
       ]
      },
      {
       "metadata": {},
       "output_type": "display_data",
       "png": "[encoded data removed]",
       "text": [
        "<matplotlib.figure.Figure at 0x5849b50>"
       ]
      }
     ],
     "prompt_number": 6
    },
    {
     "cell_type": "code",
     "collapsed": false,
     "input": [
      "resp = aia_tresp['tresp']['all'][0][1,:][20:61]\n",
      "t = aia_tresp['tresp']['logte'][0][20:61]\n",
      "\n",
      "\n",
      "ctresp = cumtrapz(resp/np.sqrt(10**t), 10**t, initial=0)\n",
      "\n",
      "print np.round(ctresp*1e26).astype(np.int)\n",
      "print np.round(resp*1e28).astype(np.int), np.round(t*100).astype(np.int)\n",
      "\n",
      "plt.plot(t, ctresp)"
     ],
     "language": "python",
     "metadata": {},
     "outputs": [
      {
       "output_type": "stream",
       "stream": "stdout",
       "text": [
        "[   0    0    0    1    1    2    4    7   16   43  107  226  412  666  974\n",
        " 1312 1651 1964 2233 2448 2607 2713 2780 2819 2845 2865 2883 2900 2916 2932\n",
        " 2947 2962 2976 2990 3004 3020 3041 3081 3168 3353 3695]\n",
        "[  0   1   1   1   1   2   3   8  26  67 137 222 307 373 406 400 360 302\n",
        " 236 170 112  67  38  22  15  12  11  10   9   8   7   7   6   6   6   6\n",
        "   9  18  38  74 120] [500 505 510 515 520 525 530 535 540 545 550 555 560 565 570 575 580 585\n",
        " 590 595 600 605 610 615 620 625 630 635 640 645 650 655 660 665 670 675\n",
        " 680 685 690 695 700]\n"
       ]
      },
      {
       "metadata": {},
       "output_type": "pyout",
       "prompt_number": 36,
       "text": [
        "[<matplotlib.lines.Line2D at 0xd0b0f90>]"
       ]
      },
      {
       "metadata": {},
       "output_type": "display_data",
       "png": "[encoded data removed]",
       "text": [
        "<matplotlib.figure.Figure at 0xd007f10>"
       ]
      }
     ],
     "prompt_number": 36
    },
    {
     "cell_type": "code",
     "collapsed": false,
     "input": [],
     "language": "python",
     "metadata": {},
     "outputs": []
    }
   ],
   "metadata": {}
  }
 ]
}