{
 "cells": [
  {
   "cell_type": "code",
   "execution_count": 1,
   "metadata": {
    "collapsed": false
   },
   "outputs": [],
   "source": [
    "%matplotlib inline\n",
    "\n",
    "import matplotlib.pyplot as plt\n",
    "import numpy as np\n",
    "import sys\n",
    "sys.path.append('Q:\\\\python\\\\lib')\n",
    "import Sun\n",
    "#import AIA\n",
    "#from radloss import *\n",
    "#from hydro_static import *\n",
    "#import chianti.core as ch\n"
   ]
  },
  {
   "cell_type": "code",
   "execution_count": 2,
   "metadata": {
    "collapsed": false
   },
   "outputs": [
    {
     "data": {
      "text/plain": [
       "array([-2.5, -4. , -3.5])"
      ]
     },
     "execution_count": 2,
     "metadata": {},
     "output_type": "execute_result"
    }
   ],
   "source": [
    "def d(x, order = 1):\n",
    "    if (order == 1):\n",
    "        return np.gradient(x, edge_order = 1)\n",
    "    if (order == 2):\n",
    "        out = np.roll(x,1)+np.roll(x,-1)-2*x\n",
    "        out[0] = out[1]\n",
    "        out[-1] = out[-2]\n",
    "    return out\n",
    "\n",
    "\n",
    "def trisol(D,U,V,B):\n",
    "    _D = np.array(D)\n",
    "    _U = np.array(U)\n",
    "    _V = np.array(V)\n",
    "    _B = np.array(B)\n",
    "    \n",
    "    n = D.shape[0]\n",
    "    \n",
    "    for i in range(1,n):\n",
    "        _D[i] -= _U[i-1]*_V[i-1]/_D[i-1]\n",
    "        _B[i] -= _B[i-1]*_V[i-1]/_D[i-1]\n",
    "        \n",
    "    for i in range(n-2,-1,-1):\n",
    "        _B[i] -= _B[i+1]*_U[i]/_D[i+1]\n",
    "        \n",
    "    return _B/_D\n",
    "\n",
    "#def radiate(T,p):\n",
    "#    return (p/(2*Sun.k_b*T))**2*2e-22#radloss(T)\n",
    "\n",
    "#U = np.array([1,1], dtype = np.float)\n",
    "#V = np.array([1,1], dtype = np.float)\n",
    "#D = np.array([-2,-2,-2], dtype = np.float)\n",
    "#B = np.array([1,2,3], dtype = np.float)\n",
    "\n",
    "#trisol(D,U,V,B)"
   ]
  },
  {
   "cell_type": "code",
   "execution_count": 49,
   "metadata": {
    "collapsed": false
   },
   "outputs": [],
   "source": [
    "nx = 1e2\n",
    "nt = np.int(1e2)\n",
    "\n",
    "dx = 1\n",
    "k = 1\n",
    "\n",
    "T0 = np.ones(nx, dtype = np.float)\n",
    "T0[50] = 10.\n",
    "\n",
    "\n",
    "T = np.array(T0)\n",
    "\n",
    "\n",
    "for i in range(0,np.int(1e3)):\n",
    "    d = k*T**2.5\n",
    "    q = np.max(d)\n",
    "\n",
    "    D = -(q+2)*d\n",
    "    D[0] = 1\n",
    "    D[-1] = 1\n",
    "\n",
    "    U = np.roll(d,-1)\n",
    "    U = U[:-1]\n",
    "    U[0] = 0\n",
    "\n",
    "    V = np.roll(d,1)\n",
    "    V = V[1:]\n",
    "    V[-1] = 0\n",
    "\n",
    "    B = T*d\n",
    "    B = 5./7*(np.roll(B,-1)+np.roll(B,1)) - (q+2*5./7)*B\n",
    "    B[0] = T[0]\n",
    "    B[-1] = T[-1]\n",
    "\n",
    "    T = trisol(D,U,V,B)"
   ]
  },
  {
   "cell_type": "code",
   "execution_count": 50,
   "metadata": {
    "collapsed": false
   },
   "outputs": [
    {
     "data": {
      "text/plain": [
       "[<matplotlib.lines.Line2D at 0x90e5370>]"
      ]
     },
     "execution_count": 50,
     "metadata": {},
     "output_type": "execute_result"
    },
    {
     "data": {
      "image/png": "[encoded data removed]",
      "text/plain": [
       "<matplotlib.figure.Figure at 0x8eae8d0>"
      ]
     },
     "metadata": {},
     "output_type": "display_data"
    }
   ],
   "source": [
    "plt.plot(T)"
   ]
  },
  {
   "cell_type": "code",
   "execution_count": null,
   "metadata": {
    "collapsed": true
   },
   "outputs": [],
   "source": []
  }
 ],
 "metadata": {
  "kernelspec": {
   "display_name": "Python 2",
   "language": "python",
   "name": "python2"
  },
  "language_info": {
   "codemirror_mode": {
    "name": "ipython",
    "version": 2
   },
   "file_extension": ".py",
   "mimetype": "text/x-python",
   "name": "python",
   "nbconvert_exporter": "python",
   "pygments_lexer": "ipython2",
   "version": "2.7.10"
  }
 },
 "nbformat": 4,
 "nbformat_minor": 0
}
