{
 "metadata": {
  "name": "",
  "signature": "sha256:ee65800fbc839a7db10a2047e55eb804d4cb6fdfdf87e28d0fd76663eb8e0581"
 },
 "nbformat": 3,
 "nbformat_minor": 0,
 "worksheets": [
  {
   "cells": [
    {
     "cell_type": "code",
     "collapsed": false,
     "input": [
      "%cd 'Q:\\Dropbox\\python\\QSim\\'"
     ],
     "language": "python",
     "metadata": {},
     "outputs": [
      {
       "output_type": "stream",
       "stream": "stdout",
       "text": [
        "Q:\\Dropbox\\python\\QSim\n"
       ]
      }
     ],
     "prompt_number": 1
    },
    {
     "cell_type": "code",
     "collapsed": false,
     "input": [
      "%matplotlib inline\n",
      "from scipy.io import *\n",
      "import matplotlib.pyplot as plt\n",
      "import numpy as np\n",
      "import pymc as pm\n",
      "import QSim\n",
      "import Sun as S\n",
      "from pymc.Matplot import plot"
     ],
     "language": "python",
     "metadata": {},
     "outputs": [
      {
       "output_type": "stream",
       "stream": "stdout",
       "text": [
        "Couldn't import dot_parser, loading of dot files will not be possible.\n"
       ]
      }
     ],
     "prompt_number": 2
    },
    {
     "cell_type": "code",
     "collapsed": false,
     "input": [
      "s = np.load('data\\sdo.x766y1118.20110225.npz')\n",
      "\n",
      "N = 40\n",
      "dt=12 ## time resolution, [s]\n",
      "t = np.arange(N)*dt ## time variable, [s]\n",
      "\n",
      "data_131 = np.sum(s['aia_131'][535:535+N, 35:38, 13:16],(1,2))/9.\n",
      "data_171 = np.sum(s['aia_171'][535:535+N, 35:38, 13:16],(1,2))/9.\n",
      "data_193 = np.sum(s['aia_193'][535:535+N, 35:38, 13:16],(1,2))/9.\n",
      "\n",
      "#data_171 = s['aia_171'][535:535+N, 36, 14]\n",
      "#data_193 = s['aia_193'][535:535+N, 36, 14]\n",
      "\n",
      "#data_131 = np.sum(s['aia_131'][480-1:500-3, 30:35,30:35],(1,2))/25.\n",
      "#data_171 = np.sum(s['aia_171'][480-1:500-3, 30:35,30:35],(1,2))/25.\n",
      "#data_193 = np.sum(s['aia_193'][480-1:500-3, 30:35,30:35],(1,2))/25.\n",
      "\n",
      "data = data_171\n",
      "plt.plot(t, data)"
     ],
     "language": "python",
     "metadata": {},
     "outputs": [
      {
       "metadata": {},
       "output_type": "pyout",
       "prompt_number": 3,
       "text": [
        "[<matplotlib.lines.Line2D at 0x111f2430>]"
       ]
      },
      {
       "metadata": {},
       "output_type": "display_data",
       "png": "[encoded data removed]",
       "text": [
        "<matplotlib.figure.Figure at 0xda33f50>"
       ]
      }
     ],
     "prompt_number": 3
    },
    {
     "cell_type": "code",
     "collapsed": false,
     "input": [
      "H_av = 5e5\n",
      "a0 = 1e4\n",
      "sigma = 3.\n",
      "\n",
      "\n",
      "t = pm.Uniform('t', 0.25*N, 0.75*N, value = 0.5*N)\n",
      "#sigma = pm.Exponential('sigma', 1/sigma0, value = sigma0)\n",
      "#q = pm.Uniform('q', 0, 1, value = 0.5)\n",
      "\n",
      "P0 = pm.Exponential('P0', 0.1, value = 0.01)\n",
      "T0 = pm.Exponential('T0', 1/1e6, value = 1e6)\n",
      "\n",
      "\n",
      "a = pm.Exponential('a', 1/a0, value = a0)\n",
      "H0 = pm.Exponential('H0', 1/H_av, value = H_av)\n",
      "\n",
      "idx = np.arange(0, N)\n",
      "\n",
      "@pm.deterministic(dtype=float)\n",
      "def sim(H0=H0, a=a, P0=P0, T0=T0, t=t): \n",
      "    H = (a/sigma-a/sigma**2*abs(idx - t)).clip(min=0)+H0\n",
      "    return QSim.simulate(H, H0, P0, T0, dt)\n",
      "\n",
      "@pm.stochastic(observed = True)\n",
      "def prob(sim=sim, value = data):\n",
      "    def logp(sim, value):\n",
      "        return np.sum(-(value-sim)**2/value)\n",
      "    \n"
     ],
     "language": "python",
     "metadata": {},
     "outputs": [],
     "prompt_number": 4
    },
    {
     "cell_type": "code",
     "collapsed": false,
     "input": [
      "model = pm.Model([H0, P0, a, t, T0, sim, prob])\n",
      "mcmc = pm.MCMC(model)"
     ],
     "language": "python",
     "metadata": {},
     "outputs": [],
     "prompt_number": 5
    },
    {
     "cell_type": "code",
     "collapsed": false,
     "input": [
      "mcmc.sample(2000,1000,10)"
     ],
     "language": "python",
     "metadata": {},
     "outputs": [
      {
       "output_type": "stream",
       "stream": "stdout",
       "text": [
        "\r",
        " [---               9%                  ] 184 of 2000 complete in 0.5 sec"
       ]
      },
      {
       "output_type": "stream",
       "stream": "stdout",
       "text": [
        "\r",
        " [------           17%                  ] 356 of 2000 complete in 1.0 sec"
       ]
      },
      {
       "output_type": "stream",
       "stream": "stdout",
       "text": [
        "\r",
        " [----------       26%                  ] 527 of 2000 complete in 1.5 sec"
       ]
      },
      {
       "output_type": "stream",
       "stream": "stdout",
       "text": [
        "\r",
        " [------------     34%                  ] 680 of 2000 complete in 2.0 sec"
       ]
      },
      {
       "output_type": "stream",
       "stream": "stdout",
       "text": [
        "\r",
        " [---------------- 42%                  ] 852 of 2000 complete in 2.5 sec"
       ]
      },
      {
       "output_type": "stream",
       "stream": "stdout",
       "text": [
        "\r",
        " [-----------------50%                  ] 1014 of 2000 complete in 3.1 sec"
       ]
      },
      {
       "output_type": "stream",
       "stream": "stdout",
       "text": [
        "\r",
        " [-----------------58%--                ] 1175 of 2000 complete in 3.6 sec"
       ]
      },
      {
       "output_type": "stream",
       "stream": "stdout",
       "text": [
        "\r",
        " [-----------------67%-----             ] 1340 of 2000 complete in 4.1 sec"
       ]
      },
      {
       "output_type": "stream",
       "stream": "stdout",
       "text": [
        "\r",
        " [-----------------74%--------          ] 1494 of 2000 complete in 4.6 sec"
       ]
      },
      {
       "output_type": "stream",
       "stream": "stdout",
       "text": [
        "\r",
        " [-----------------82%-----------       ] 1648 of 2000 complete in 5.1 sec"
       ]
      },
      {
       "output_type": "stream",
       "stream": "stdout",
       "text": [
        "\r",
        " [-----------------89%--------------    ] 1795 of 2000 complete in 5.6 sec"
       ]
      },
      {
       "output_type": "stream",
       "stream": "stdout",
       "text": [
        "\r",
        " [-----------------97%----------------  ] 1943 of 2000 complete in 6.1 sec"
       ]
      },
      {
       "output_type": "stream",
       "stream": "stdout",
       "text": [
        "\r",
        " [-----------------100%-----------------] 2000 of 2000 complete in 6.3 sec"
       ]
      }
     ],
     "prompt_number": 6
    },
    {
     "cell_type": "code",
     "collapsed": false,
     "input": [
      "print \"P0 = \", np.round(P0.value, 3), \"dyne cm-2\"\n",
      "print \"T0 = \", np.round(T0.value/1e6,3), \"x 10^6 K\"\n",
      "print \"H0 = \", np.round(H0.value/1e5), \"x 10^5 erg cm-2\"\n",
      "print \"a = \", np.round(a.value/1e5), \"x 10^5 erg cm-2\"\n",
      "\n",
      "\n",
      "fig = plt.figure(figsize=(8, 10), dpi=100)\n",
      "\n",
      "plt.subplot(3,1,1)\n",
      "plt.plot(sim.value)\n",
      "plt.plot(data)\n",
      "\n",
      "\n",
      "\n",
      "\n"
     ],
     "language": "python",
     "metadata": {},
     "outputs": [
      {
       "output_type": "stream",
       "stream": "stdout",
       "text": [
        "P0 =  0.005 dyne cm-2\n",
        "T0 =  1.135 x 10^6 K\n",
        "H0 =  1.0 x 10^5 erg cm-2\n",
        "a =  28.0 x 10^5 erg cm-2\n"
       ]
      },
      {
       "metadata": {},
       "output_type": "pyout",
       "prompt_number": 7,
       "text": [
        "[<matplotlib.lines.Line2D at 0x11255730>]"
       ]
      },
      {
       "metadata": {},
       "output_type": "display_data",
       "png": "[encoded data removed]",
       "text": [
        "<matplotlib.figure.Figure at 0xda33c90>"
       ]
      }
     ],
     "prompt_number": 7
    },
    {
     "cell_type": "code",
     "collapsed": false,
     "input": [
      "plt.plot(np.sum(s['aia_131'][450:550,:,:],(1,2)))"
     ],
     "language": "python",
     "metadata": {},
     "outputs": [
      {
       "metadata": {},
       "output_type": "pyout",
       "prompt_number": 15,
       "text": [
        "[<matplotlib.lines.Line2D at 0x11edb6f0>]"
       ]
      },
      {
       "metadata": {},
       "output_type": "display_data",
       "png": "[encoded data removed]",
       "text": [
        "<matplotlib.figure.Figure at 0x11bc8e90>"
       ]
      }
     ],
     "prompt_number": 15
    },
    {
     "cell_type": "code",
     "collapsed": false,
     "input": [],
     "language": "python",
     "metadata": {},
     "outputs": [],
     "prompt_number": 8
    }
   ],
   "metadata": {}
  }
 ]
}