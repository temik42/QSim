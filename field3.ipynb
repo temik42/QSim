{
 "cells": [
  {
   "cell_type": "code",
   "execution_count": 1,
   "metadata": {
    "collapsed": false
   },
   "outputs": [
    {
     "name": "stdout",
     "output_type": "stream",
     "text": [
      "Q:\\Dropbox\\python\\QSim\n"
     ]
    }
   ],
   "source": [
    "%cd 'Q:\\Dropbox\\python\\QSim\\'"
   ]
  },
  {
   "cell_type": "code",
   "execution_count": 2,
   "metadata": {
    "collapsed": false
   },
   "outputs": [],
   "source": [
    "%matplotlib qt\n",
    "from scipy.io import *\n",
    "import matplotlib.pyplot as plt\n",
    "#from mpl_toolkits.mplot3d import Axes3D\n",
    "import numpy as np\n",
    "#from numpy import fft\n",
    "#from numpy import linalg\n",
    "#from scipy import interpolate\n",
    "#from sklearn.cluster import DBSCAN\n",
    "#from scipy import optimize\n",
    "from pyfield import *\n",
    "import time"
   ]
  },
  {
   "cell_type": "code",
   "execution_count": 3,
   "metadata": {
    "collapsed": false
   },
   "outputs": [],
   "source": [
    "s = np.load('data\\sdo.x766y1118.20110225.npz')\n",
    "\n",
    "data = s['hmi'][129,:,:]\n",
    "#data[np.where(np.abs(data) < 10)] = 0\n",
    "#fig = plt.figure(figsize=(8,8))\n",
    "#plt.show()"
   ]
  },
  {
   "cell_type": "code",
   "execution_count": 4,
   "metadata": {
    "collapsed": false
   },
   "outputs": [
    {
     "name": "stdout",
     "output_type": "stream",
     "text": [
      "Searching charges...\n",
      "Done! Elapsed time: 0.00599980354309\n",
      "Searching nulls...\n",
      "Done! Elapsed time: 0.891000032425\n"
     ]
    }
   ],
   "source": [
    "field = Field(data,1.).search_charges(25).search_nulls()"
   ]
  },
  {
   "cell_type": "code",
   "execution_count": 5,
   "metadata": {
    "collapsed": false
   },
   "outputs": [
    {
     "data": {
      "text/plain": [
       "<pyfield.Field instance at 0x0000000015DB7B88>"
      ]
     },
     "execution_count": 5,
     "metadata": {},
     "output_type": "execute_result"
    }
   ],
   "source": [
    "field.draw_footprint()"
   ]
  },
  {
   "cell_type": "code",
   "execution_count": 5,
   "metadata": {
    "collapsed": false
   },
   "outputs": [
    {
     "data": {
      "text/plain": [
       "array([[303, 179, 123,   0,  11,  24,  19,   0],\n",
       "       [  0,  17,   0,   0,  18,   0,  38,   0],\n",
       "       [  0,   0, 358, 901, 171, 112,  14, 273],\n",
       "       [965,   0, 141,  83,   0, 342,   0,   4]])"
      ]
     },
     "execution_count": 5,
     "metadata": {},
     "output_type": "execute_result"
    }
   ],
   "source": [
    "field.connectivity()"
   ]
  },
  {
   "cell_type": "code",
   "execution_count": 54,
   "metadata": {
    "collapsed": false
   },
   "outputs": [],
   "source": [
    "def search_nulls(self, maxi = 10, h = 0.1, d = 2):\n",
    "                    \n",
    "    xi = np.arange(0,self.dim[0]/d)*d\n",
    "    yi = np.arange(0,self.dim[1]/d)*d\n",
    "\n",
    "    xx, yy = np.meshgrid(xi, yi)\n",
    "    zz = np.zeros(self.dim[0]*self.dim[1]/d**2)\n",
    "\n",
    "    xx = xx.flatten()\n",
    "    yy = yy.flatten()\n",
    "\n",
    "    B = np.zeros((2,2,self.dim[0]*self.dim[1]/d**2))\n",
    "    \n",
    "    \"\"\"\n",
    "    self.Update(np.array([xx+h, yy, zz])).Get().Jacobian()\n",
    "    hesx = np.sum(self._jacobian*self._p, axis = 1)\n",
    "        \n",
    "    self.Update(np.array([xx-h, yy, zz])).Get().Jacobian()\n",
    "    hesx = (hesx - np.sum(self._jacobian*self._p, axis = 1))/(2*h)\n",
    "    \n",
    "    self.Update(np.array([xx, yy+h, zz])).Get().Jacobian()\n",
    "    hesy = np.sum(self._jacobian*self._p, axis = 1)\n",
    "        \n",
    "    self.Update(np.array([xx, yy-h, zz])).Get().Jacobian()\n",
    "    hesy = (hesy - np.sum(self._jacobian*self._p, axis = 1))/(2*h)\n",
    "    \n",
    "    det = hesx[0,:]*hesy[1,:] - hesx[1,:]*hesy[0,:]\n",
    "    \n",
    "    B[0,0,:] = hesy[1,:]/det\n",
    "    B[1,1,:] = hesx[0,:]/det\n",
    "    B[0,1,:] = -hesy[0,:]/det\n",
    "    B[1,0,:] = -hesx[1,:]/det\n",
    "    \"\"\"\n",
    "    B[0,0,:] += 1\n",
    "    B[1,1,:] += 1\n",
    "    \n",
    "    self.Update(np.array([xx, yy, zz])).Get().Jacobian()\n",
    "    gr = np.sum(self._jacobian*self._p, axis = 1)[0:2,:]\n",
    "    \n",
    "    for i in range(0,50):\n",
    "        sk = - np.sum(B*gr, axis = 1)*0.1\n",
    "        xx = xx + sk[0,:]\n",
    "        yy = yy + sk[1,:]\n",
    "\n",
    "        self.Update(np.array([xx, yy, zz])).Get().Jacobian()\n",
    "        _gr = gr\n",
    "        gr = np.sum(self._jacobian*self._p, axis = 1)[0:2,:]    \n",
    "        yk = gr - _gr\n",
    "\n",
    "        B = (B + (np.sum(sk*yk, axis = 0) + np.sum(np.sum(B*yk, axis = 1)*yk, axis = 0))/np.sum(sk*yk, axis = 0)**2*\n",
    "               np.array([[sk[i,:]*sk[j,:] for i in range(0,2)] for j in range(0,2)]) - \n",
    "               (np.array([[np.sum(B*yk, axis = 1)[j,:]*sk[i,:] for i in range(0,2)] for j in range(0,2)]) + \n",
    "                np.sum(B*np.array([[sk[j,:]*yk[i,:] for i in range(0,2)] for j in range(0,2)]), axis = 0))/np.sum(sk*yk, axis = 0))\n",
    "             \n",
    "    \n",
    "    \n",
    "    return xx, yy, zz\n",
    "\n",
    "xx, yy, zz = search_nulls(field)\n",
    "\n"
   ]
  },
  {
   "cell_type": "code",
   "execution_count": 55,
   "metadata": {
    "collapsed": false
   },
   "outputs": [
    {
     "data": {
      "text/plain": [
       "[<matplotlib.lines.Line2D at 0x14113730>]"
      ]
     },
     "execution_count": 55,
     "metadata": {},
     "output_type": "execute_result"
    }
   ],
   "source": [
    "field.draw_footprint()\n",
    "plt.axis([0,64,0,64])\n",
    "plt.plot(xx, yy, 'ro')"
   ]
  },
  {
   "cell_type": "code",
   "execution_count": 165,
   "metadata": {
    "collapsed": false
   },
   "outputs": [
    {
     "data": {
      "text/plain": [
       "<matplotlib.image.AxesImage at 0x31c60670>"
      ]
     },
     "execution_count": 165,
     "metadata": {},
     "output_type": "execute_result"
    }
   ],
   "source": [
    "b = B[0,0,:]\n",
    "b.shape = (32,32)\n",
    "plt.imshow(b)"
   ]
  },
  {
   "cell_type": "code",
   "execution_count": 14,
   "metadata": {
    "collapsed": false
   },
   "outputs": [],
   "source": [
    "q = FField(data,1)\n",
    "\n",
    "det = q[3]*q[5]-q[4]**2\n",
    "\n",
    "dx = -(q[1]*q[5]-q[2]*q[4])/det\n",
    "dy = -(q[2]*q[3]-q[1]*q[4])/det\n",
    "\n",
    "q1 = q[0]+q[1]*dx+q[2]*dy+q[3]*dx**2/2+q[4]*dx*dy+q[5]*dy**2\n",
    "\n",
    "#dx = -q[1]\n",
    "#dy = -q[2]\n"
   ]
  },
  {
   "cell_type": "code",
   "execution_count": 18,
   "metadata": {
    "collapsed": false
   },
   "outputs": [
    {
     "data": {
      "text/plain": [
       "[<matplotlib.lines.Line2D at 0x117cbc30>]"
      ]
     },
     "execution_count": 18,
     "metadata": {},
     "output_type": "execute_result"
    }
   ],
   "source": [
    "t = np.where((np.abs(dx) < 1)*(np.abs(dy) < 1)*(np.abs(q1) > 30)*(det > 0))\n",
    "plt.imshow(q[0])\n",
    "plt.plot(t[1]+dx[t],t[0]+dy[t], 'ro')"
   ]
  },
  {
   "cell_type": "code",
   "execution_count": 63,
   "metadata": {
    "collapsed": false
   },
   "outputs": [
    {
     "data": {
      "text/plain": [
       "<matplotlib.image.AxesImage at 0x13011850>"
      ]
     },
     "execution_count": 63,
     "metadata": {},
     "output_type": "execute_result"
    }
   ],
   "source": [
    "plt.imshow(s['aia_171'][503,:,:])"
   ]
  },
  {
   "cell_type": "code",
   "execution_count": 78,
   "metadata": {
    "collapsed": false
   },
   "outputs": [
    {
     "data": {
      "text/plain": [
       "<matplotlib.image.AxesImage at 0x10ca8bd0>"
      ]
     },
     "execution_count": 78,
     "metadata": {},
     "output_type": "execute_result"
    }
   ],
   "source": [
    "plt.imshow(s['aia_171'][503,:,:])"
   ]
  },
  {
   "cell_type": "code",
   "execution_count": 7,
   "metadata": {
    "collapsed": false
   },
   "outputs": [
    {
     "name": "stderr",
     "output_type": "stream",
     "text": [
      "C:\\Anaconda\\lib\\site-packages\\mpl_toolkits\\mplot3d\\axes3d.py:1094: FutureWarning: comparison to `None` will result in an elementwise object comparison in the future.\n",
      "  if self.button_pressed in self._rotate_btn:\n"
     ]
    }
   ],
   "source": [
    "from mpl_toolkits.mplot3d import Axes3D\n",
    "from scipy.interpolate import interp1d\n",
    "fig = plt.figure()\n",
    "ax = fig.add_subplot(111, projection='3d')\n",
    "\n",
    "for null in [field.Nulls[3], field.Nulls[8]]:\n",
    "    vecs = null.eigen[1][:,np.where(np.sign(null.eigen[0]) == -np.sign(null.det))[0]]\n",
    "\n",
    "    verts = []\n",
    "\n",
    "    for i in range(0,51):\n",
    "        phi = np.pi*i/50\n",
    "        dx = vecs[:,0]*np.cos(phi)+vecs[:,1]*np.sin(phi)\n",
    "        v = np.column_stack((null.x, field.rk2(null.x + dx, mul = -np.sign(null.det))[0]))\n",
    "        v1 = []\n",
    "        for vi in v:\n",
    "            n = np.shape(vi)[0]\n",
    "            t = np.arange(0,n)\n",
    "            t1 = np.arange(0,11)/10.*(n-1)\n",
    "            v1.extend([interp1d(t,vi)(t1)])\n",
    "        ax.plot(v1[0], v1[1], v1[2], color = 'green')\n",
    "        verts.extend([np.array(v1)])\n",
    "\n",
    "    verts = np.array(verts)\n",
    "\n",
    "    #ax.plot_wireframe(verts[:,0,:],verts[:,1,:],verts[:,2,:])\n",
    "\n",
    "#plt.axis([0,64,0,64])\n",
    "plt.show()"
   ]
  },
  {
   "cell_type": "code",
   "execution_count": null,
   "metadata": {
    "collapsed": false
   },
   "outputs": [],
   "source": []
  }
 ],
 "metadata": {
  "kernelspec": {
   "display_name": "Python 2",
   "language": "python",
   "name": "python2"
  },
  "language_info": {
   "codemirror_mode": {
    "name": "ipython",
    "version": 2
   },
   "file_extension": ".py",
   "mimetype": "text/x-python",
   "name": "python",
   "nbconvert_exporter": "python",
   "pygments_lexer": "ipython2",
   "version": "2.7.9"
  }
 },
 "nbformat": 4,
 "nbformat_minor": 0
}
