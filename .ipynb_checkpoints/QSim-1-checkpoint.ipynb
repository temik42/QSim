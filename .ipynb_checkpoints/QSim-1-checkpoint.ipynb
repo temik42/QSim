{
 "cells": [
  {
   "cell_type": "code",
   "execution_count": 1,
   "metadata": {
    "collapsed": false
   },
   "outputs": [],
   "source": [
    "#%matplotlib inline\n",
    "\n",
    "#import matplotlib.pyplot as plt\n",
    "import numpy as np\n",
    "import sys\n",
    "sys.path.append('Q:\\\\python\\\\lib')\n",
    "import Sun\n",
    "import AIA\n",
    "from hydropy import hydro\n",
    "from pyfield import *"
   ]
  },
  {
   "cell_type": "code",
   "execution_count": 2,
   "metadata": {
    "collapsed": false
   },
   "outputs": [],
   "source": [
    "nx = 100\n",
    "L = 1.2e10\n",
    "H = 1e9\n",
    "dt = 1e-1\n",
    "\n",
    "idx = (1-np.cos(np.arange(0,nx).astype(np.double)/(nx-1.)*np.pi))*0.5\n",
    "#idx = np.arange(0,nx).astype(np.double)/(nx-1.)\n",
    "X = np.zeros((nx,3), dtype = np.double)\n",
    "\n",
    "#X[:,0] = idx*L\n",
    "X[:,0] = np.cos(idx*np.pi, dtype = np.double)*L/2\n",
    "X[:,2] = np.sin(idx*np.pi, dtype = np.double)*H\n",
    "\n",
    "#X[:,0] = idx**2*L\n",
    "#X[:,2] = 2*idx*(1-idx)*H*2\n",
    "\n",
    "\n",
    "rho = np.zeros(nx, dtype = np.double)\n",
    "rhou = np.zeros(nx, dtype = np.double)\n",
    "rhoe = np.zeros(nx, dtype = np.double)\n",
    "hrate = np.zeros(nx, dtype = np.double)\n",
    "\n",
    "m = Sun.mu_c*Sun.m_p\n",
    "rho = np.ones(nx, dtype = np.double)*1e9*m\n",
    "#rho = (-np.sin(idx*np.pi)*9e9+1e10)*m\n",
    "\n",
    "\n",
    "T = np.ones(nx, dtype = np.double)*2e4\n",
    "#T = np.sin(idx*np.pi)*2e4+2e6\n",
    "rhoe = 3*rho/m*Sun.k_b*T\n",
    "\n",
    "def hrate(time):\n",
    "    if time < 250*12:\n",
    "        return 1e-2\n",
    "    else:\n",
    "        return 0.\n",
    "#hrate[nx/2] = 1e-4\n",
    "\n",
    "\n",
    "\n",
    "PDE = hydro(dt,X,rho,rhou,rhoe,hrate, maxiter = 120*800, each = 120)\n",
    "PDE.start()\n"
   ]
  },
  {
   "cell_type": "code",
   "execution_count": 3,
   "metadata": {
    "collapsed": false
   },
   "outputs": [
    {
     "name": "stderr",
     "output_type": "stream",
     "text": [
      "Exception in thread Thread-5:\n",
      "Traceback (most recent call last):\n",
      "  File \"C:\\Anaconda\\lib\\threading.py\", line 810, in __bootstrap_inner\n",
      "    self.run()\n",
      "  File \"hydropy.py\", line 249, in run\n",
      "    self.hydrostep()\n",
      "  File \"hydropy.py\", line 209, in hydrostep\n",
      "    self.getptu()\n",
      "  File \"hydropy.py\", line 197, in getptu\n",
      "    self.ekin = self.u**2/2\n",
      "AttributeError: 'hydro' object has no attribute 'u'\n",
      "\n"
     ]
    },
    {
     "ename": "AttributeError",
     "evalue": "'hydro' object has no attribute 'ui'",
     "output_type": "error",
     "traceback": [
      "\u001b[1;31m---------------------------------------------------------------------------\u001b[0m",
      "\u001b[1;31mAttributeError\u001b[0m                            Traceback (most recent call last)",
      "\u001b[1;32m<ipython-input-3-230233426d59>\u001b[0m in \u001b[0;36m<module>\u001b[1;34m()\u001b[0m\n\u001b[1;32m----> 1\u001b[1;33m \u001b[0mPDE\u001b[0m\u001b[1;33m.\u001b[0m\u001b[0mui\u001b[0m\u001b[1;33m[\u001b[0m\u001b[1;36m1\u001b[0m\u001b[1;33m]\u001b[0m\u001b[1;33m\u001b[0m\u001b[0m\n\u001b[0m",
      "\u001b[1;31mAttributeError\u001b[0m: 'hydro' object has no attribute 'ui'"
     ]
    }
   ],
   "source": [
    "PDE.ui[1]"
   ]
  },
  {
   "cell_type": "code",
   "execution_count": 4,
   "metadata": {
    "collapsed": false
   },
   "outputs": [
    {
     "ename": "NameError",
     "evalue": "name 'PDE' is not defined",
     "output_type": "error",
     "traceback": [
      "\u001b[1;31m---------------------------------------------------------------------------\u001b[0m",
      "\u001b[1;31mNameError\u001b[0m                                 Traceback (most recent call last)",
      "\u001b[1;32m<ipython-input-4-abbc895acf9c>\u001b[0m in \u001b[0;36m<module>\u001b[1;34m()\u001b[0m\n\u001b[0;32m      2\u001b[0m \u001b[1;32mimport\u001b[0m \u001b[0mmatplotlib\u001b[0m\u001b[1;33m.\u001b[0m\u001b[0mpyplot\u001b[0m \u001b[1;32mas\u001b[0m \u001b[0mplt\u001b[0m\u001b[1;33m\u001b[0m\u001b[0m\n\u001b[0;32m      3\u001b[0m \u001b[0mfig\u001b[0m \u001b[1;33m=\u001b[0m \u001b[0mplt\u001b[0m\u001b[1;33m.\u001b[0m\u001b[0mfigure\u001b[0m\u001b[1;33m(\u001b[0m\u001b[0mfigsize\u001b[0m\u001b[1;33m=\u001b[0m\u001b[1;33m(\u001b[0m\u001b[1;36m10\u001b[0m\u001b[1;33m,\u001b[0m\u001b[1;36m6\u001b[0m\u001b[1;33m)\u001b[0m\u001b[1;33m)\u001b[0m\u001b[1;33m\u001b[0m\u001b[0m\n\u001b[1;32m----> 4\u001b[1;33m \u001b[0mplt\u001b[0m\u001b[1;33m.\u001b[0m\u001b[0mplot\u001b[0m\u001b[1;33m(\u001b[0m\u001b[0mPDE\u001b[0m\u001b[1;33m.\u001b[0m\u001b[0mI171\u001b[0m\u001b[1;33m)\u001b[0m\u001b[1;33m\u001b[0m\u001b[0m\n\u001b[0m\u001b[0;32m      5\u001b[0m \u001b[0mplt\u001b[0m\u001b[1;33m.\u001b[0m\u001b[0mplot\u001b[0m\u001b[1;33m(\u001b[0m\u001b[0mPDE\u001b[0m\u001b[1;33m.\u001b[0m\u001b[0mI193\u001b[0m\u001b[1;33m)\u001b[0m\u001b[1;33m\u001b[0m\u001b[0m\n\u001b[0;32m      6\u001b[0m \u001b[0mplt\u001b[0m\u001b[1;33m.\u001b[0m\u001b[0maxis\u001b[0m\u001b[1;33m(\u001b[0m\u001b[1;33m[\u001b[0m\u001b[1;36m0\u001b[0m\u001b[1;33m,\u001b[0m\u001b[1;36m800\u001b[0m\u001b[1;33m,\u001b[0m\u001b[1;36m0\u001b[0m\u001b[1;33m,\u001b[0m\u001b[1;36m10\u001b[0m\u001b[1;33m]\u001b[0m\u001b[1;33m)\u001b[0m\u001b[1;33m\u001b[0m\u001b[0m\n",
      "\u001b[1;31mNameError\u001b[0m: name 'PDE' is not defined"
     ]
    },
    {
     "data": {
      "text/plain": [
       "<matplotlib.figure.Figure at 0x611fdb0>"
      ]
     },
     "metadata": {},
     "output_type": "display_data"
    }
   ],
   "source": [
    "%matplotlib inline\n",
    "import matplotlib.pyplot as plt\n",
    "fig = plt.figure(figsize=(10,6))\n",
    "plt.plot(PDE.I171)\n",
    "plt.plot(PDE.I193)\n",
    "plt.axis([0,800,0,10])"
   ]
  },
  {
   "cell_type": "code",
   "execution_count": 103,
   "metadata": {
    "collapsed": false
   },
   "outputs": [
    {
     "data": {
      "text/plain": [
       "(-40952.150488603322, 39505.026682807846)"
      ]
     },
     "execution_count": 103,
     "metadata": {},
     "output_type": "execute_result"
    }
   ],
   "source": [
    "2.5*PDE.p[0]*PDE.ui[1], Sun.kappa*(PDE.T[0]**2.5)*(PDE.T[1] - PDE.T[0])/PDE.dx[1]"
   ]
  },
  {
   "cell_type": "code",
   "execution_count": 92,
   "metadata": {
    "collapsed": false
   },
   "outputs": [
    {
     "data": {
      "text/plain": [
       "1.2647876681368196e-05"
      ]
     },
     "execution_count": 92,
     "metadata": {},
     "output_type": "execute_result"
    }
   ],
   "source": [
    "np.sum(PDE.rho[1:-1]*PDE.ds[1:-1])"
   ]
  },
  {
   "cell_type": "code",
   "execution_count": 5,
   "metadata": {
    "collapsed": false
   },
   "outputs": [
    {
     "data": {
      "text/plain": [
       "[<matplotlib.lines.Line2D at 0x6224230>]"
      ]
     },
     "execution_count": 5,
     "metadata": {},
     "output_type": "execute_result"
    },
    {
     "data": {
      "image/png": "[encoded data removed]",
      "text/plain": [
       "<matplotlib.figure.Figure at 0x6128370>"
      ]
     },
     "metadata": {},
     "output_type": "display_data"
    }
   ],
   "source": [
    "plt.plot(idx,rho)"
   ]
  },
  {
   "cell_type": "code",
   "execution_count": null,
   "metadata": {
    "collapsed": true
   },
   "outputs": [],
   "source": []
  }
 ],
 "metadata": {
  "kernelspec": {
   "display_name": "Python 2",
   "language": "python",
   "name": "python2"
  },
  "language_info": {
   "codemirror_mode": {
    "name": "ipython",
    "version": 2
   },
   "file_extension": ".py",
   "mimetype": "text/x-python",
   "name": "python",
   "nbconvert_exporter": "python",
   "pygments_lexer": "ipython2",
   "version": "2.7.10"
  }
 },
 "nbformat": 4,
 "nbformat_minor": 0
}
