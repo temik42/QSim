{
 "cells": [
  {
   "cell_type": "code",
   "execution_count": 1,
   "metadata": {
    "collapsed": false
   },
   "outputs": [],
   "source": [
    "#%matplotlib inline\n",
    "\n",
    "#import matplotlib.pyplot as plt\n",
    "import numpy as np\n",
    "import sys\n",
    "sys.path.append('Q:\\\\python\\\\lib')\n",
    "import Sun\n",
    "import AIA\n",
    "from hydropy import hydro\n",
    "from pyfield import *"
   ]
  },
  {
   "cell_type": "code",
   "execution_count": 2,
   "metadata": {
    "collapsed": false
   },
   "outputs": [],
   "source": [
    "nx = 1000\n",
    "L = 1e8\n",
    "dt = 1e-3\n",
    "\n",
    "idx = np.arange(0,nx).astype(np.double)/(nx-1.)\n",
    "X = np.zeros((nx,2), dtype = np.double)\n",
    "\n",
    "X[:,0] = np.cos(idx*np.pi, dtype = np.double)*L\n",
    "X[:,1] = np.sin(idx*np.pi, dtype = np.double)*L\n",
    "\n",
    "\n",
    "rho = np.zeros(nx, dtype = np.double)\n",
    "rhou = np.zeros(nx, dtype = np.double)\n",
    "rhoe = np.zeros(nx, dtype = np.double)\n",
    "hrate = np.zeros(nx, dtype = np.double)\n",
    "\n",
    "m = Sun.mu_c*Sun.m_p\n",
    "rho = np.ones(nx, dtype = np.double)*1e9*m\n",
    "\n",
    "T = np.ones(nx, dtype = np.double)*2e4\n",
    "#T = np.sin(idx)*2e6+2e4\n",
    "rhoe = 3*rho/m*Sun.k_b*T\n",
    "\n",
    "#hrate[:] = 1e-8\n",
    "hrate[nx/2] = 1e-6\n",
    "\n",
    "\n",
    "\n",
    "PDE = hydro(dt,X,rho,rhou,rhoe,hrate, maxiter = 1e6, each = 1000)\n",
    "PDE.start()\n"
   ]
  },
  {
   "cell_type": "code",
   "execution_count": 3,
   "metadata": {
    "collapsed": false
   },
   "outputs": [
    {
     "name": "stdout",
     "output_type": "stream",
     "text": [
      "39.01 in progress\n"
     ]
    },
    {
     "name": "stderr",
     "output_type": "stream",
     "text": [
      "hydropy.py:110: RuntimeWarning: invalid value encountered in double_scalars\n",
      "  F0 = 2./7*Sun.kappa*(T1**3.5-self.T[0]**3.5)/self.dx[0]\n",
      "hydropy.py:111: RuntimeWarning: invalid value encountered in double_scalars\n",
      "  _F0 = 2./7*Sun.kappa*(self.T[-1]**3.5-_T1**3.5)/self.dx[-1]\n",
      "Q:\\python\\lib\\radloss.py:7: RuntimeWarning: invalid value encountered in log10\n",
      "  logT1 = np.log10(T)\n",
      "hydropy.py:72: RuntimeWarning: invalid value encountered in power\n",
      "  dd = Sun.kappa*self.T**2.5*self.m/(3*Sun.k_b)/self.rho\n",
      "hydropy.py:73: RuntimeWarning: invalid value encountered in power\n",
      "  z = 2./7*Sun.kappa*self.T**3.5\n",
      "hydropy.py:68: RuntimeWarning: invalid value encountered in greater_equal\n",
      "  flux = np.where(self.ui >= 0., self.ui*np.roll(q,1),self.ui*q)\n"
     ]
    },
    {
     "ename": "NameError",
     "evalue": "name 'plt' is not defined",
     "output_type": "error",
     "traceback": [
      "\u001b[1;31m---------------------------------------------------------------------------\u001b[0m",
      "\u001b[1;31mNameError\u001b[0m                                 Traceback (most recent call last)",
      "\u001b[1;32m<ipython-input-3-f20d79d14d95>\u001b[0m in \u001b[0;36m<module>\u001b[1;34m()\u001b[0m\n\u001b[0;32m      1\u001b[0m \u001b[1;32mprint\u001b[0m \u001b[0mPDE\u001b[0m\u001b[1;33m.\u001b[0m\u001b[0mtime\u001b[0m\u001b[1;33m,\u001b[0m \u001b[0mPDE\u001b[0m\u001b[1;33m.\u001b[0m\u001b[0mstatus\u001b[0m\u001b[1;33m\u001b[0m\u001b[0m\n\u001b[1;32m----> 2\u001b[1;33m \u001b[0mplt\u001b[0m\u001b[1;33m.\u001b[0m\u001b[0mfigure\u001b[0m\u001b[1;33m(\u001b[0m\u001b[0mfigsize\u001b[0m\u001b[1;33m=\u001b[0m\u001b[1;33m(\u001b[0m\u001b[1;36m10\u001b[0m\u001b[1;33m,\u001b[0m\u001b[1;36m24\u001b[0m\u001b[1;33m)\u001b[0m\u001b[1;33m)\u001b[0m\u001b[1;33m\u001b[0m\u001b[0m\n\u001b[0m\u001b[0;32m      3\u001b[0m \u001b[0mplt\u001b[0m\u001b[1;33m.\u001b[0m\u001b[0msubplot\u001b[0m\u001b[1;33m(\u001b[0m\u001b[1;36m311\u001b[0m\u001b[1;33m)\u001b[0m\u001b[1;33m\u001b[0m\u001b[0m\n\u001b[0;32m      4\u001b[0m \u001b[0mplt\u001b[0m\u001b[1;33m.\u001b[0m\u001b[0mtitle\u001b[0m\u001b[1;33m(\u001b[0m\u001b[1;34m'Temperature'\u001b[0m\u001b[1;33m,\u001b[0m \u001b[0msize\u001b[0m \u001b[1;33m=\u001b[0m \u001b[1;36m18\u001b[0m\u001b[1;33m)\u001b[0m\u001b[1;33m\u001b[0m\u001b[0m\n\u001b[0;32m      5\u001b[0m \u001b[0mplt\u001b[0m\u001b[1;33m.\u001b[0m\u001b[0mplot\u001b[0m\u001b[1;33m(\u001b[0m\u001b[0mPDE\u001b[0m\u001b[1;33m.\u001b[0m\u001b[0mT\u001b[0m\u001b[1;33m)\u001b[0m\u001b[1;33m\u001b[0m\u001b[0m\n",
      "\u001b[1;31mNameError\u001b[0m: name 'plt' is not defined"
     ]
    }
   ],
   "source": [
    "print PDE.time, PDE.status\n",
    "plt.figure(figsize=(10,24))\n",
    "plt.subplot(311)\n",
    "plt.title('Temperature', size = 18)\n",
    "plt.plot(PDE.T)\n",
    "plt.subplot(312)\n",
    "plt.title('Density', size = 18)\n",
    "plt.plot(np.log10(PDE.rho/m))\n",
    "plt.subplot(313)\n",
    "plt.title('AIA171 intensity', size = 18)\n",
    "plt.plot((PDE.rho/m)**2*AIA.t171(PDE.T)*1e7)"
   ]
  },
  {
   "cell_type": "code",
   "execution_count": 12,
   "metadata": {
    "collapsed": false
   },
   "outputs": [
    {
     "data": {
      "text/plain": [
       "0.00031918578260492242"
      ]
     },
     "execution_count": 12,
     "metadata": {},
     "output_type": "execute_result"
    }
   ],
   "source": [
    "np.max(PDE.rhou**2/PDE.rho/2/PDE.rhoe)"
   ]
  },
  {
   "cell_type": "code",
   "execution_count": 143,
   "metadata": {
    "collapsed": false
   },
   "outputs": [
    {
     "data": {
      "text/plain": [
       "2.6713132152950187e-12"
      ]
     },
     "execution_count": 143,
     "metadata": {},
     "output_type": "execute_result"
    }
   ],
   "source": [
    "np.sum(PDE.rho)"
   ]
  },
  {
   "cell_type": "code",
   "execution_count": null,
   "metadata": {
    "collapsed": true
   },
   "outputs": [],
   "source": []
  }
 ],
 "metadata": {
  "kernelspec": {
   "display_name": "Python 2",
   "language": "python",
   "name": "python2"
  },
  "language_info": {
   "codemirror_mode": {
    "name": "ipython",
    "version": 2
   },
   "file_extension": ".py",
   "mimetype": "text/x-python",
   "name": "python",
   "nbconvert_exporter": "python",
   "pygments_lexer": "ipython2",
   "version": "2.7.10"
  }
 },
 "nbformat": 4,
 "nbformat_minor": 0
}
