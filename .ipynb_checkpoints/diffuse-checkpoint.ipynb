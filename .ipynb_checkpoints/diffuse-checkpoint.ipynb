{
 "cells": [
  {
   "cell_type": "code",
   "execution_count": 1,
   "metadata": {
    "collapsed": false
   },
   "outputs": [],
   "source": [
    "%matplotlib inline\n",
    "\n",
    "import matplotlib.pyplot as plt\n",
    "import numpy as np\n",
    "import sys\n",
    "sys.path.append('Q:\\\\python\\\\lib')\n",
    "import Sun\n",
    "import AIA\n",
    "from hydro_static import *\n"
   ]
  },
  {
   "cell_type": "code",
   "execution_count": 188,
   "metadata": {
    "collapsed": false
   },
   "outputs": [
    {
     "data": {
      "text/plain": [
       "array([-2.5, -4. , -3.5])"
      ]
     },
     "execution_count": 188,
     "metadata": {},
     "output_type": "execute_result"
    }
   ],
   "source": [
    "def d(x, order = 1):\n",
    "    if (order == 1):\n",
    "        return np.gradient(x, edge_order = 1)\n",
    "    if (order == 2):\n",
    "        out = np.roll(x,1)+np.roll(x,-1)-2*x\n",
    "        out[0] = out[1]\n",
    "        out[-1] = out[-2]\n",
    "    return out\n",
    "\n",
    "\n",
    "def trisol(D,U,V,B):\n",
    "    _D = np.array(D)\n",
    "    _U = np.array(U)\n",
    "    _V = np.array(V)\n",
    "    _B = np.array(B)\n",
    "    \n",
    "    n = D.shape[0]\n",
    "    \n",
    "    for i in range(1,n):\n",
    "        _D[i] -= _U[i-1]*_V[i-1]/_D[i-1]\n",
    "        _B[i] -= _B[i-1]*_V[i-1]/_D[i-1]\n",
    "        \n",
    "    for i in range(n-2,-1,-1):\n",
    "        _B[i] -= _B[i+1]*_U[i]/_D[i+1]\n",
    "        \n",
    "    return _B/_D\n",
    "\n",
    "U = np.array([1,1], dtype = np.float)\n",
    "V = np.array([1,1], dtype = np.float)\n",
    "D = np.array([-2,-2,-2], dtype = np.float)\n",
    "B = np.array([1,2,3], dtype = np.float)\n",
    "\n",
    "trisol(D,U,V,B)"
   ]
  },
  {
   "cell_type": "code",
   "execution_count": 196,
   "metadata": {
    "collapsed": false
   },
   "outputs": [],
   "source": [
    "nx = 100\n",
    "nt = np.int(1e3)\n",
    "L = 1e8\n",
    "\n",
    "idx = np.arange(0,nx).astype(np.double)/(nx-1.)\n",
    "s = idx*L\n",
    "#dx = (np.roll(s,-1)-s)\n",
    "dx = L/(nx-1.)\n",
    "\n",
    "T0 = 2e4\n",
    "T = np.ones(nx)*T0\n",
    "X = T**3.5\n",
    "X0 = T0**3.5\n",
    "\n",
    "e = np.sin(np.pi/2*idx)*1e-5\n",
    "\n",
    "#e = np.zeros((nx,))\n",
    "#e[-2] = 1e-2\n",
    "\n",
    "E = np.sum(e*dx)\n",
    "f0 = 1e4\n",
    "\n",
    "K = Sun.kappa*2./7\n",
    "\n",
    "\n",
    "a = 10.\n",
    "dt = a*dx**2/K\n",
    "#D = np.ones(nx)*(1 + 2*d*dt/dx**2.)\n",
    "#U = -np.ones(nx-1)*d*dt/dx**2.\n",
    "#V = -np.ones(nx-1)*d*dt/dx**2.\n",
    "\n",
    "D = np.ones(nx)*(1 + 2*a)\n",
    "U = -np.ones(nx-1)*a\n",
    "V = -np.ones(nx-1)*a\n",
    "\n",
    "\n",
    "D[0] = 1.\n",
    "U[0] = 0.\n",
    "V[-1] = -2*a\n",
    "\n",
    "for i in range(0,nt):\n",
    "\n",
    "    B = X + e*dt\n",
    "    B[0] = X0\n",
    "    X = trisol(D,U,V,B)\n",
    "    #X[-1] = X[-3]\n",
    "    #X[0] = T0**3.5\n",
    "    \n"
   ]
  },
  {
   "cell_type": "code",
   "execution_count": 199,
   "metadata": {
    "collapsed": false
   },
   "outputs": [
    {
     "name": "stdout",
     "output_type": "stream",
     "text": [
      "3.88159149687e+19 641.656921613 2225331783.21\n"
     ]
    }
   ],
   "source": [
    "print dt, E, (X[2]-X[1])/dx"
   ]
  },
  {
   "cell_type": "code",
   "execution_count": 198,
   "metadata": {
    "collapsed": false
   },
   "outputs": [
    {
     "data": {
      "text/plain": [
       "[<matplotlib.lines.Line2D at 0xeaec210>]"
      ]
     },
     "execution_count": 198,
     "metadata": {},
     "output_type": "execute_result"
    },
    {
     "data": {
      "image/png": "[encoded data removed]",
      "text/plain": [
       "<matplotlib.figure.Figure at 0xe8bfb50>"
      ]
     },
     "metadata": {},
     "output_type": "display_data"
    }
   ],
   "source": [
    "\n",
    "T = X**(2./7)\n",
    "\n",
    "plt.figure(figsize=(15,6))\n",
    "\n",
    "plt.subplot(121)\n",
    "plt.plot(-d(X,2)/dx**2*K)\n",
    "plt.plot(e)\n",
    "\n",
    "plt.subplot(122)\n",
    "plt.plot(T)\n"
   ]
  },
  {
   "cell_type": "code",
   "execution_count": null,
   "metadata": {
    "collapsed": true
   },
   "outputs": [],
   "source": [
    "nx = 100\n",
    "nt = 1e4\n",
    "L = 1e8\n",
    "\n",
    "idx = np.arange(0,nx).astype(np.double)/(nx-1.)\n",
    "s = idx*L\n",
    "ds = np.roll(s,-1)-s\n",
    "T = np.ones(nx)*2e4\n",
    "X = T**3.5\n",
    "\n",
    "e = np.sin(np.pi/2*idx)*1e-5\n",
    "#e = np.zeros((nx,))\n",
    "#e[-2] = 1e-2\n",
    "\n",
    "D = Sun.kappa*2./7\n",
    "dt = 0.1*(L/nx)**2/D\n",
    "for it in range(1,np.int32(nt)+1):    \n",
    "    hydrostep(ds,dt,X,e)\n",
    "    "
   ]
  },
  {
   "cell_type": "code",
   "execution_count": 8,
   "metadata": {
    "collapsed": false
   },
   "outputs": [
    {
     "data": {
      "text/plain": [
       "[<matplotlib.lines.Line2D at 0xddb7570>]"
      ]
     },
     "execution_count": 8,
     "metadata": {},
     "output_type": "execute_result"
    },
    {
     "data": {
      "image/png": "[encoded data removed]",
      "text/plain": [
       "<matplotlib.figure.Figure at 0xdb48a90>"
      ]
     },
     "metadata": {},
     "output_type": "display_data"
    }
   ],
   "source": [
    "plt.plot(n**2*AIA.t171(T)*1e7)"
   ]
  },
  {
   "cell_type": "code",
   "execution_count": 374,
   "metadata": {
    "collapsed": false
   },
   "outputs": [
    {
     "name": "stdout",
     "output_type": "stream",
     "text": [
      "2.124202e-12 0.0 8.2842\n"
     ]
    }
   ],
   "source": [
    "print np.sum(rho[:,0]), np.sum(rhou[:,0]), np.sum(rhoe[:,0])"
   ]
  },
  {
   "cell_type": "code",
   "execution_count": 375,
   "metadata": {
    "collapsed": false
   },
   "outputs": [
    {
     "name": "stdout",
     "output_type": "stream",
     "text": [
      "2.21388584084e-12 -7.40087541339e-22 220.669870032\n"
     ]
    }
   ],
   "source": [
    "print np.sum(rho[:,-1]), np.sum(rhou[:,-1]), np.sum(rhoe[:,-1])"
   ]
  },
  {
   "cell_type": "code",
   "execution_count": 376,
   "metadata": {
    "collapsed": false
   },
   "outputs": [
    {
     "data": {
      "text/plain": [
       "2850.9702188880347"
      ]
     },
     "execution_count": 376,
     "metadata": {},
     "output_type": "execute_result"
    }
   ],
   "source": [
    "time[-1]"
   ]
  },
  {
   "cell_type": "code",
   "execution_count": 234,
   "metadata": {
    "collapsed": false
   },
   "outputs": [
    {
     "data": {
      "text/plain": [
       "(0.21740009806430668, 10.332761373389548, 5208.3398353398552)"
      ]
     },
     "execution_count": 234,
     "metadata": {},
     "output_type": "execute_result"
    }
   ],
   "source": [
    "dum, trad, tcon"
   ]
  },
  {
   "cell_type": "code",
   "execution_count": 123,
   "metadata": {
    "collapsed": false
   },
   "outputs": [],
   "source": [
    "def f(x):\n",
    "    out = np.array([0.1*x[0]-x[1],0.1*x[1]+x[0]]).T\n",
    "    #out /= np.sqrt(out[0]**2+out[1]**2)\n",
    "    return out\n",
    "\n",
    "x0 = np.array([1.,1.]).T\n",
    "\n",
    "x = x0\n",
    "step = 0.1\n",
    "\n",
    "for i in range(0,100):\n",
    "    f1 = f(x0)\n",
    "    x1 = x0 + step*f1\n",
    "    f2 = f(x1)\n",
    "    x0 += 0.5*step*(f1+f2)\n",
    "    x = np.column_stack((x,x0))\n"
   ]
  },
  {
   "cell_type": "code",
   "execution_count": 3,
   "metadata": {
    "collapsed": false
   },
   "outputs": [],
   "source": [
    "alpha = 4./11\n",
    "p = 2*1e9*Sun.k_b*1e6\n",
    "lam = 2e-22\n",
    "\n",
    "A = ((p/(2*Sun.k_b))**2*lam/Sun.kappa/(3.5*alpha**2-alpha))**(2./11)"
   ]
  },
  {
   "cell_type": "code",
   "execution_count": 12,
   "metadata": {
    "collapsed": false
   },
   "outputs": [
    {
     "data": {
      "text/plain": [
       "[<matplotlib.lines.Line2D at 0xe0d46f0>]"
      ]
     },
     "execution_count": 12,
     "metadata": {},
     "output_type": "execute_result"
    },
    {
     "data": {
      "image/png": "[encoded data removed]",
      "text/plain": [
       "<matplotlib.figure.Figure at 0xdf31f30>"
      ]
     },
     "metadata": {},
     "output_type": "display_data"
    }
   ],
   "source": [
    "N = 100\n",
    "L = 1e9\n",
    "s = (np.arange(0,N).astype(np.float32)+0.5)/(N-1)*L\n",
    "\n",
    "T = A*s**alpha\n",
    "n = p/(2*Sun.k_b*T)\n",
    "\n",
    "plt.plot(s, n**2*AIA.t171(T)*1e7)"
   ]
  },
  {
   "cell_type": "code",
   "execution_count": null,
   "metadata": {
    "collapsed": true
   },
   "outputs": [],
   "source": []
  }
 ],
 "metadata": {
  "kernelspec": {
   "display_name": "Python 2",
   "language": "python",
   "name": "python2"
  },
  "language_info": {
   "codemirror_mode": {
    "name": "ipython",
    "version": 2
   },
   "file_extension": ".py",
   "mimetype": "text/x-python",
   "name": "python",
   "nbconvert_exporter": "python",
   "pygments_lexer": "ipython2",
   "version": "2.7.10"
  }
 },
 "nbformat": 4,
 "nbformat_minor": 0
}
