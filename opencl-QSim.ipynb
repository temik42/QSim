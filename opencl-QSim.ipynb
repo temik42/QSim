{
 "cells": [
  {
   "cell_type": "code",
   "execution_count": null,
   "metadata": {
    "collapsed": true
   },
   "outputs": [],
   "source": [
    "import pyopencl as cl\n",
    "import sys\n",
    "import numpy as np\n",
    "\n",
    "\n",
    "class Integrator():\n",
    "    def __init__(self):\n",
    "        self.clinit()    \n",
    "        \n",
    "    def clinit(self):\n",
    "        plats = cl.get_platforms()\n",
    "        \n",
    "        if False:\n",
    "            from pyopencl.tools import get_gl_sharing_context_properties\n",
    "            if sys.platform == \"darwin\":\n",
    "                self.ctx = cl.Context(properties=get_gl_sharing_context_properties(),\n",
    "                                 devices=[])\n",
    "            else:\n",
    "                self.ctx = cl.Context(properties=[\n",
    "                    (cl.context_properties.PLATFORM, plats[0])]\n",
    "                    + get_gl_sharing_context_properties(), devices=None)\n",
    "                \n",
    "        else:\n",
    "            self.ctx = cl.create_some_context()\n",
    "            \n",
    "        self.queue = cl.CommandQueue(self.ctx)"
   ]
  }
 ],
 "metadata": {
  "kernelspec": {
   "display_name": "Python 2",
   "language": "python",
   "name": "python2"
  },
  "language_info": {
   "codemirror_mode": {
    "name": "ipython",
    "version": 2
   },
   "file_extension": ".py",
   "mimetype": "text/x-python",
   "name": "python",
   "nbconvert_exporter": "python",
   "pygments_lexer": "ipython2",
   "version": "2.7.10"
  }
 },
 "nbformat": 4,
 "nbformat_minor": 0
}
